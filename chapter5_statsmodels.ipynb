{
  "nbformat": 4,
  "nbformat_minor": 0,
  "metadata": {
    "colab": {
      "name": "chapter5_statsmodels.ipynb",
      "provenance": [],
      "authorship_tag": "ABX9TyM1IHmBGR46Teh5Cw7GzUyk",
      "include_colab_link": true
    },
    "kernelspec": {
      "name": "python3",
      "display_name": "Python 3"
    },
    "language_info": {
      "name": "python"
    }
  },
  "cells": [
    {
      "cell_type": "markdown",
      "metadata": {
        "id": "view-in-github",
        "colab_type": "text"
      },
      "source": [
        "<a href=\"https://colab.research.google.com/github/asluchych/introduction-econometrics/blob/main/chapter5_statsmodels.ipynb\" target=\"_parent\"><img src=\"https://colab.research.google.com/assets/colab-badge.svg\" alt=\"Open In Colab\"/></a>"
      ]
    },
    {
      "cell_type": "markdown",
      "source": [
        "# Exercise 5: Multiple Regression Model                         \n",
        "# Assignment 3 "
      ],
      "metadata": {
        "id": "HRaglWN1zuHM"
      }
    },
    {
      "cell_type": "code",
      "execution_count": 4,
      "metadata": {
        "id": "WvNZuTOt9qdd"
      },
      "outputs": [],
      "source": [
        "import numpy as np\n",
        "import pandas as pd\n",
        "import statsmodels.api as sm\n",
        "import matplotlib.pyplot as plt\n",
        "from scipy.stats import t"
      ]
    },
    {
      "cell_type": "markdown",
      "source": [
        "Read data"
      ],
      "metadata": {
        "id": "dWLGewAoz6bg"
      }
    },
    {
      "cell_type": "code",
      "source": [
        "houseprices = pd.read_csv(\"houseprices2.csv\")"
      ],
      "metadata": {
        "id": "Q1x7t4Es0Mws"
      },
      "execution_count": 5,
      "outputs": []
    },
    {
      "cell_type": "markdown",
      "source": [
        "Exploration:\n",
        "\n",
        "- data summary"
      ],
      "metadata": {
        "id": "CP9vqGUT2Q2-"
      }
    },
    {
      "cell_type": "code",
      "source": [
        "houseprices.describe().round(2)"
      ],
      "metadata": {
        "colab": {
          "base_uri": "https://localhost:8080/",
          "height": 300
        },
        "id": "s5SVOI7I0QHm",
        "outputId": "826ee5e7-505c-4109-a572-a688ed0d1826"
      },
      "execution_count": 6,
      "outputs": [
        {
          "output_type": "execute_result",
          "data": {
            "text/plain": [
              "           AGE    BATHS  BEDROOMS  FIREPLACE    OWNER     POOL       PRICE  \\\n",
              "count  1080.00  1080.00   1080.00    1080.00  1080.00  1080.00     1080.00   \n",
              "mean     19.57     1.97      3.18       0.56     0.49     0.08   154863.18   \n",
              "std      17.19     0.61      0.71       0.50     0.50     0.27   122912.81   \n",
              "min       1.00     1.00      1.00       0.00     0.00     0.00    22000.00   \n",
              "25%       5.00     2.00      3.00       0.00     0.00     0.00    99000.00   \n",
              "50%      18.00     2.00      3.00       1.00     0.00     0.00   130000.00   \n",
              "75%      25.00     2.00      4.00       1.00     1.00     0.00   170162.50   \n",
              "max      80.00     5.00      8.00       1.00     1.00     1.00  1580000.00   \n",
              "\n",
              "          SQFT  TRADITIONAL  WATERFRONT  \n",
              "count  1080.00      1080.00     1080.00  \n",
              "mean   2325.94         0.54        0.07  \n",
              "std    1008.10         0.50        0.26  \n",
              "min     662.00         0.00        0.00  \n",
              "25%    1604.50         0.00        0.00  \n",
              "50%    2186.50         1.00        0.00  \n",
              "75%    2800.00         1.00        0.00  \n",
              "max    7897.00         1.00        1.00  "
            ],
            "text/html": [
              "\n",
              "  <div id=\"df-7b1604f3-af8b-488e-bb57-dfc55cde5ebb\">\n",
              "    <div class=\"colab-df-container\">\n",
              "      <div>\n",
              "<style scoped>\n",
              "    .dataframe tbody tr th:only-of-type {\n",
              "        vertical-align: middle;\n",
              "    }\n",
              "\n",
              "    .dataframe tbody tr th {\n",
              "        vertical-align: top;\n",
              "    }\n",
              "\n",
              "    .dataframe thead th {\n",
              "        text-align: right;\n",
              "    }\n",
              "</style>\n",
              "<table border=\"1\" class=\"dataframe\">\n",
              "  <thead>\n",
              "    <tr style=\"text-align: right;\">\n",
              "      <th></th>\n",
              "      <th>AGE</th>\n",
              "      <th>BATHS</th>\n",
              "      <th>BEDROOMS</th>\n",
              "      <th>FIREPLACE</th>\n",
              "      <th>OWNER</th>\n",
              "      <th>POOL</th>\n",
              "      <th>PRICE</th>\n",
              "      <th>SQFT</th>\n",
              "      <th>TRADITIONAL</th>\n",
              "      <th>WATERFRONT</th>\n",
              "    </tr>\n",
              "  </thead>\n",
              "  <tbody>\n",
              "    <tr>\n",
              "      <th>count</th>\n",
              "      <td>1080.00</td>\n",
              "      <td>1080.00</td>\n",
              "      <td>1080.00</td>\n",
              "      <td>1080.00</td>\n",
              "      <td>1080.00</td>\n",
              "      <td>1080.00</td>\n",
              "      <td>1080.00</td>\n",
              "      <td>1080.00</td>\n",
              "      <td>1080.00</td>\n",
              "      <td>1080.00</td>\n",
              "    </tr>\n",
              "    <tr>\n",
              "      <th>mean</th>\n",
              "      <td>19.57</td>\n",
              "      <td>1.97</td>\n",
              "      <td>3.18</td>\n",
              "      <td>0.56</td>\n",
              "      <td>0.49</td>\n",
              "      <td>0.08</td>\n",
              "      <td>154863.18</td>\n",
              "      <td>2325.94</td>\n",
              "      <td>0.54</td>\n",
              "      <td>0.07</td>\n",
              "    </tr>\n",
              "    <tr>\n",
              "      <th>std</th>\n",
              "      <td>17.19</td>\n",
              "      <td>0.61</td>\n",
              "      <td>0.71</td>\n",
              "      <td>0.50</td>\n",
              "      <td>0.50</td>\n",
              "      <td>0.27</td>\n",
              "      <td>122912.81</td>\n",
              "      <td>1008.10</td>\n",
              "      <td>0.50</td>\n",
              "      <td>0.26</td>\n",
              "    </tr>\n",
              "    <tr>\n",
              "      <th>min</th>\n",
              "      <td>1.00</td>\n",
              "      <td>1.00</td>\n",
              "      <td>1.00</td>\n",
              "      <td>0.00</td>\n",
              "      <td>0.00</td>\n",
              "      <td>0.00</td>\n",
              "      <td>22000.00</td>\n",
              "      <td>662.00</td>\n",
              "      <td>0.00</td>\n",
              "      <td>0.00</td>\n",
              "    </tr>\n",
              "    <tr>\n",
              "      <th>25%</th>\n",
              "      <td>5.00</td>\n",
              "      <td>2.00</td>\n",
              "      <td>3.00</td>\n",
              "      <td>0.00</td>\n",
              "      <td>0.00</td>\n",
              "      <td>0.00</td>\n",
              "      <td>99000.00</td>\n",
              "      <td>1604.50</td>\n",
              "      <td>0.00</td>\n",
              "      <td>0.00</td>\n",
              "    </tr>\n",
              "    <tr>\n",
              "      <th>50%</th>\n",
              "      <td>18.00</td>\n",
              "      <td>2.00</td>\n",
              "      <td>3.00</td>\n",
              "      <td>1.00</td>\n",
              "      <td>0.00</td>\n",
              "      <td>0.00</td>\n",
              "      <td>130000.00</td>\n",
              "      <td>2186.50</td>\n",
              "      <td>1.00</td>\n",
              "      <td>0.00</td>\n",
              "    </tr>\n",
              "    <tr>\n",
              "      <th>75%</th>\n",
              "      <td>25.00</td>\n",
              "      <td>2.00</td>\n",
              "      <td>4.00</td>\n",
              "      <td>1.00</td>\n",
              "      <td>1.00</td>\n",
              "      <td>0.00</td>\n",
              "      <td>170162.50</td>\n",
              "      <td>2800.00</td>\n",
              "      <td>1.00</td>\n",
              "      <td>0.00</td>\n",
              "    </tr>\n",
              "    <tr>\n",
              "      <th>max</th>\n",
              "      <td>80.00</td>\n",
              "      <td>5.00</td>\n",
              "      <td>8.00</td>\n",
              "      <td>1.00</td>\n",
              "      <td>1.00</td>\n",
              "      <td>1.00</td>\n",
              "      <td>1580000.00</td>\n",
              "      <td>7897.00</td>\n",
              "      <td>1.00</td>\n",
              "      <td>1.00</td>\n",
              "    </tr>\n",
              "  </tbody>\n",
              "</table>\n",
              "</div>\n",
              "      <button class=\"colab-df-convert\" onclick=\"convertToInteractive('df-7b1604f3-af8b-488e-bb57-dfc55cde5ebb')\"\n",
              "              title=\"Convert this dataframe to an interactive table.\"\n",
              "              style=\"display:none;\">\n",
              "        \n",
              "  <svg xmlns=\"http://www.w3.org/2000/svg\" height=\"24px\"viewBox=\"0 0 24 24\"\n",
              "       width=\"24px\">\n",
              "    <path d=\"M0 0h24v24H0V0z\" fill=\"none\"/>\n",
              "    <path d=\"M18.56 5.44l.94 2.06.94-2.06 2.06-.94-2.06-.94-.94-2.06-.94 2.06-2.06.94zm-11 1L8.5 8.5l.94-2.06 2.06-.94-2.06-.94L8.5 2.5l-.94 2.06-2.06.94zm10 10l.94 2.06.94-2.06 2.06-.94-2.06-.94-.94-2.06-.94 2.06-2.06.94z\"/><path d=\"M17.41 7.96l-1.37-1.37c-.4-.4-.92-.59-1.43-.59-.52 0-1.04.2-1.43.59L10.3 9.45l-7.72 7.72c-.78.78-.78 2.05 0 2.83L4 21.41c.39.39.9.59 1.41.59.51 0 1.02-.2 1.41-.59l7.78-7.78 2.81-2.81c.8-.78.8-2.07 0-2.86zM5.41 20L4 18.59l7.72-7.72 1.47 1.35L5.41 20z\"/>\n",
              "  </svg>\n",
              "      </button>\n",
              "      \n",
              "  <style>\n",
              "    .colab-df-container {\n",
              "      display:flex;\n",
              "      flex-wrap:wrap;\n",
              "      gap: 12px;\n",
              "    }\n",
              "\n",
              "    .colab-df-convert {\n",
              "      background-color: #E8F0FE;\n",
              "      border: none;\n",
              "      border-radius: 50%;\n",
              "      cursor: pointer;\n",
              "      display: none;\n",
              "      fill: #1967D2;\n",
              "      height: 32px;\n",
              "      padding: 0 0 0 0;\n",
              "      width: 32px;\n",
              "    }\n",
              "\n",
              "    .colab-df-convert:hover {\n",
              "      background-color: #E2EBFA;\n",
              "      box-shadow: 0px 1px 2px rgba(60, 64, 67, 0.3), 0px 1px 3px 1px rgba(60, 64, 67, 0.15);\n",
              "      fill: #174EA6;\n",
              "    }\n",
              "\n",
              "    [theme=dark] .colab-df-convert {\n",
              "      background-color: #3B4455;\n",
              "      fill: #D2E3FC;\n",
              "    }\n",
              "\n",
              "    [theme=dark] .colab-df-convert:hover {\n",
              "      background-color: #434B5C;\n",
              "      box-shadow: 0px 1px 3px 1px rgba(0, 0, 0, 0.15);\n",
              "      filter: drop-shadow(0px 1px 2px rgba(0, 0, 0, 0.3));\n",
              "      fill: #FFFFFF;\n",
              "    }\n",
              "  </style>\n",
              "\n",
              "      <script>\n",
              "        const buttonEl =\n",
              "          document.querySelector('#df-7b1604f3-af8b-488e-bb57-dfc55cde5ebb button.colab-df-convert');\n",
              "        buttonEl.style.display =\n",
              "          google.colab.kernel.accessAllowed ? 'block' : 'none';\n",
              "\n",
              "        async function convertToInteractive(key) {\n",
              "          const element = document.querySelector('#df-7b1604f3-af8b-488e-bb57-dfc55cde5ebb');\n",
              "          const dataTable =\n",
              "            await google.colab.kernel.invokeFunction('convertToInteractive',\n",
              "                                                     [key], {});\n",
              "          if (!dataTable) return;\n",
              "\n",
              "          const docLinkHtml = 'Like what you see? Visit the ' +\n",
              "            '<a target=\"_blank\" href=https://colab.research.google.com/notebooks/data_table.ipynb>data table notebook</a>'\n",
              "            + ' to learn more about interactive tables.';\n",
              "          element.innerHTML = '';\n",
              "          dataTable['output_type'] = 'display_data';\n",
              "          await google.colab.output.renderOutput(dataTable, element);\n",
              "          const docLink = document.createElement('div');\n",
              "          docLink.innerHTML = docLinkHtml;\n",
              "          element.appendChild(docLink);\n",
              "        }\n",
              "      </script>\n",
              "    </div>\n",
              "  </div>\n",
              "  "
            ]
          },
          "metadata": {},
          "execution_count": 6
        }
      ]
    },
    {
      "cell_type": "markdown",
      "source": [
        "- covariance matrix"
      ],
      "metadata": {
        "id": "aEt5bE-K2WXA"
      }
    },
    {
      "cell_type": "code",
      "source": [
        "houseprices[['PRICE', 'SQFT', 'AGE']].cov()"
      ],
      "metadata": {
        "colab": {
          "base_uri": "https://localhost:8080/",
          "height": 143
        },
        "id": "oVRRMeZQ2YbS",
        "outputId": "f94d0346-2419-4eed-e175-8807293a839f"
      },
      "execution_count": 7,
      "outputs": [
        {
          "output_type": "execute_result",
          "data": {
            "text/plain": [
              "              PRICE          SQFT            AGE\n",
              "PRICE  1.510756e+10  9.425559e+07 -440872.843047\n",
              "SQFT   9.425559e+07  1.016262e+06   -2392.559349\n",
              "AGE   -4.408728e+05 -2.392559e+03     295.642330"
            ],
            "text/html": [
              "\n",
              "  <div id=\"df-7cdbdbf6-a30e-4c51-ba6d-056c047669e5\">\n",
              "    <div class=\"colab-df-container\">\n",
              "      <div>\n",
              "<style scoped>\n",
              "    .dataframe tbody tr th:only-of-type {\n",
              "        vertical-align: middle;\n",
              "    }\n",
              "\n",
              "    .dataframe tbody tr th {\n",
              "        vertical-align: top;\n",
              "    }\n",
              "\n",
              "    .dataframe thead th {\n",
              "        text-align: right;\n",
              "    }\n",
              "</style>\n",
              "<table border=\"1\" class=\"dataframe\">\n",
              "  <thead>\n",
              "    <tr style=\"text-align: right;\">\n",
              "      <th></th>\n",
              "      <th>PRICE</th>\n",
              "      <th>SQFT</th>\n",
              "      <th>AGE</th>\n",
              "    </tr>\n",
              "  </thead>\n",
              "  <tbody>\n",
              "    <tr>\n",
              "      <th>PRICE</th>\n",
              "      <td>1.510756e+10</td>\n",
              "      <td>9.425559e+07</td>\n",
              "      <td>-440872.843047</td>\n",
              "    </tr>\n",
              "    <tr>\n",
              "      <th>SQFT</th>\n",
              "      <td>9.425559e+07</td>\n",
              "      <td>1.016262e+06</td>\n",
              "      <td>-2392.559349</td>\n",
              "    </tr>\n",
              "    <tr>\n",
              "      <th>AGE</th>\n",
              "      <td>-4.408728e+05</td>\n",
              "      <td>-2.392559e+03</td>\n",
              "      <td>295.642330</td>\n",
              "    </tr>\n",
              "  </tbody>\n",
              "</table>\n",
              "</div>\n",
              "      <button class=\"colab-df-convert\" onclick=\"convertToInteractive('df-7cdbdbf6-a30e-4c51-ba6d-056c047669e5')\"\n",
              "              title=\"Convert this dataframe to an interactive table.\"\n",
              "              style=\"display:none;\">\n",
              "        \n",
              "  <svg xmlns=\"http://www.w3.org/2000/svg\" height=\"24px\"viewBox=\"0 0 24 24\"\n",
              "       width=\"24px\">\n",
              "    <path d=\"M0 0h24v24H0V0z\" fill=\"none\"/>\n",
              "    <path d=\"M18.56 5.44l.94 2.06.94-2.06 2.06-.94-2.06-.94-.94-2.06-.94 2.06-2.06.94zm-11 1L8.5 8.5l.94-2.06 2.06-.94-2.06-.94L8.5 2.5l-.94 2.06-2.06.94zm10 10l.94 2.06.94-2.06 2.06-.94-2.06-.94-.94-2.06-.94 2.06-2.06.94z\"/><path d=\"M17.41 7.96l-1.37-1.37c-.4-.4-.92-.59-1.43-.59-.52 0-1.04.2-1.43.59L10.3 9.45l-7.72 7.72c-.78.78-.78 2.05 0 2.83L4 21.41c.39.39.9.59 1.41.59.51 0 1.02-.2 1.41-.59l7.78-7.78 2.81-2.81c.8-.78.8-2.07 0-2.86zM5.41 20L4 18.59l7.72-7.72 1.47 1.35L5.41 20z\"/>\n",
              "  </svg>\n",
              "      </button>\n",
              "      \n",
              "  <style>\n",
              "    .colab-df-container {\n",
              "      display:flex;\n",
              "      flex-wrap:wrap;\n",
              "      gap: 12px;\n",
              "    }\n",
              "\n",
              "    .colab-df-convert {\n",
              "      background-color: #E8F0FE;\n",
              "      border: none;\n",
              "      border-radius: 50%;\n",
              "      cursor: pointer;\n",
              "      display: none;\n",
              "      fill: #1967D2;\n",
              "      height: 32px;\n",
              "      padding: 0 0 0 0;\n",
              "      width: 32px;\n",
              "    }\n",
              "\n",
              "    .colab-df-convert:hover {\n",
              "      background-color: #E2EBFA;\n",
              "      box-shadow: 0px 1px 2px rgba(60, 64, 67, 0.3), 0px 1px 3px 1px rgba(60, 64, 67, 0.15);\n",
              "      fill: #174EA6;\n",
              "    }\n",
              "\n",
              "    [theme=dark] .colab-df-convert {\n",
              "      background-color: #3B4455;\n",
              "      fill: #D2E3FC;\n",
              "    }\n",
              "\n",
              "    [theme=dark] .colab-df-convert:hover {\n",
              "      background-color: #434B5C;\n",
              "      box-shadow: 0px 1px 3px 1px rgba(0, 0, 0, 0.15);\n",
              "      filter: drop-shadow(0px 1px 2px rgba(0, 0, 0, 0.3));\n",
              "      fill: #FFFFFF;\n",
              "    }\n",
              "  </style>\n",
              "\n",
              "      <script>\n",
              "        const buttonEl =\n",
              "          document.querySelector('#df-7cdbdbf6-a30e-4c51-ba6d-056c047669e5 button.colab-df-convert');\n",
              "        buttonEl.style.display =\n",
              "          google.colab.kernel.accessAllowed ? 'block' : 'none';\n",
              "\n",
              "        async function convertToInteractive(key) {\n",
              "          const element = document.querySelector('#df-7cdbdbf6-a30e-4c51-ba6d-056c047669e5');\n",
              "          const dataTable =\n",
              "            await google.colab.kernel.invokeFunction('convertToInteractive',\n",
              "                                                     [key], {});\n",
              "          if (!dataTable) return;\n",
              "\n",
              "          const docLinkHtml = 'Like what you see? Visit the ' +\n",
              "            '<a target=\"_blank\" href=https://colab.research.google.com/notebooks/data_table.ipynb>data table notebook</a>'\n",
              "            + ' to learn more about interactive tables.';\n",
              "          element.innerHTML = '';\n",
              "          dataTable['output_type'] = 'display_data';\n",
              "          await google.colab.output.renderOutput(dataTable, element);\n",
              "          const docLink = document.createElement('div');\n",
              "          docLink.innerHTML = docLinkHtml;\n",
              "          element.appendChild(docLink);\n",
              "        }\n",
              "      </script>\n",
              "    </div>\n",
              "  </div>\n",
              "  "
            ]
          },
          "metadata": {},
          "execution_count": 7
        }
      ]
    },
    {
      "cell_type": "markdown",
      "source": [
        "- scatterplot price vs. sqft"
      ],
      "metadata": {
        "id": "ajpEDoKP2knz"
      }
    },
    {
      "cell_type": "code",
      "source": [
        "plt.scatter(houseprices['SQFT'], houseprices['PRICE'])"
      ],
      "metadata": {
        "colab": {
          "base_uri": "https://localhost:8080/",
          "height": 293
        },
        "id": "LEOLUqTL2lwD",
        "outputId": "6a7b043d-2af1-4167-9b72-72627c6e997b"
      },
      "execution_count": 8,
      "outputs": [
        {
          "output_type": "execute_result",
          "data": {
            "text/plain": [
              "<matplotlib.collections.PathCollection at 0x7ff87c6685d0>"
            ]
          },
          "metadata": {},
          "execution_count": 8
        },
        {
          "output_type": "display_data",
          "data": {
            "text/plain": [
              "<Figure size 432x288 with 1 Axes>"
            ],
            "image/png": "[encoded data removed]"
          },
          "metadata": {
            "needs_background": "light"
          }
        }
      ]
    },
    {
      "cell_type": "markdown",
      "source": [
        "- scatterplot price vs. age\n"
      ],
      "metadata": {
        "id": "CxB8jqb02132"
      }
    },
    {
      "cell_type": "code",
      "source": [
        "plt.scatter(houseprices['AGE'], houseprices['PRICE'])"
      ],
      "metadata": {
        "colab": {
          "base_uri": "https://localhost:8080/",
          "height": 293
        },
        "id": "YFubuE_k2zcW",
        "outputId": "b7523062-31e3-4036-ed5f-a1ce44e883af"
      },
      "execution_count": 9,
      "outputs": [
        {
          "output_type": "execute_result",
          "data": {
            "text/plain": [
              "<matplotlib.collections.PathCollection at 0x7ff87c668410>"
            ]
          },
          "metadata": {},
          "execution_count": 9
        },
        {
          "output_type": "display_data",
          "data": {
            "text/plain": [
              "<Figure size 432x288 with 1 Axes>"
            ],
            "image/png": "[encoded data removed]"
          },
          "metadata": {
            "needs_background": "light"
          }
        }
      ]
    },
    {
      "cell_type": "markdown",
      "source": [
        "Model 1"
      ],
      "metadata": {
        "id": "0SkCnxDp2-O5"
      }
    },
    {
      "cell_type": "code",
      "source": [
        "y = houseprices['PRICE']\n",
        "X1 = houseprices[['SQFT', 'AGE']]\n",
        "X1 = sm.add_constant(X1)"
      ],
      "metadata": {
        "id": "_qjz0jQy0fLR"
      },
      "execution_count": null,
      "outputs": []
    },
    {
      "cell_type": "code",
      "source": [
        "model1 = sm.OLS(y, X1).fit()\n",
        "model1.summary()"
      ],
      "metadata": {
        "colab": {
          "base_uri": "https://localhost:8080/",
          "height": 499
        },
        "id": "wIkweoz52MCi",
        "outputId": "43c826dc-c0c8-4442-df24-070a34b1ca44"
      },
      "execution_count": 11,
      "outputs": [
        {
          "output_type": "execute_result",
          "data": {
            "text/plain": [
              "<class 'statsmodels.iolib.summary.Summary'>\n",
              "\"\"\"\n",
              "                            OLS Regression Results                            \n",
              "==============================================================================\n",
              "Dep. Variable:                  PRICE   R-squared:                       0.590\n",
              "Model:                            OLS   Adj. R-squared:                  0.589\n",
              "Method:                 Least Squares   F-statistic:                     773.6\n",
              "Date:                Tue, 07 Jun 2022   Prob (F-statistic):          5.21e-209\n",
              "Time:                        18:37:00   Log-Likelihood:                -13708.\n",
              "No. Observations:                1080   AIC:                         2.742e+04\n",
              "Df Residuals:                    1077   BIC:                         2.744e+04\n",
              "Df Model:                           2                                         \n",
              "Covariance Type:            nonrobust                                         \n",
              "==============================================================================\n",
              "                 coef    std err          t      P>|t|      [0.025      0.975]\n",
              "------------------------------------------------------------------------------\n",
              "const      -4.195e+04   6989.636     -6.001      0.000   -5.57e+04   -2.82e+04\n",
              "SQFT          90.9698      2.403     37.855      0.000      86.255      95.685\n",
              "AGE         -755.0414    140.894     -5.359      0.000   -1031.498    -478.584\n",
              "==============================================================================\n",
              "Omnibus:                     1233.525   Durbin-Watson:                   1.910\n",
              "Prob(Omnibus):                  0.000   Jarque-Bera (JB):           157469.949\n",
              "Skew:                           5.492   Prob(JB):                         0.00\n",
              "Kurtosis:                      61.127   Cond. No.                     7.39e+03\n",
              "==============================================================================\n",
              "\n",
              "Warnings:\n",
              "[1] Standard Errors assume that the covariance matrix of the errors is correctly specified.\n",
              "[2] The condition number is large, 7.39e+03. This might indicate that there are\n",
              "strong multicollinearity or other numerical problems.\n",
              "\"\"\""
            ],
            "text/html": [
              "<table class=\"simpletable\">\n",
              "<caption>OLS Regression Results</caption>\n",
              "<tr>\n",
              "  <th>Dep. Variable:</th>          <td>PRICE</td>      <th>  R-squared:         </th> <td>   0.590</td> \n",
              "</tr>\n",
              "<tr>\n",
              "  <th>Model:</th>                   <td>OLS</td>       <th>  Adj. R-squared:    </th> <td>   0.589</td> \n",
              "</tr>\n",
              "<tr>\n",
              "  <th>Method:</th>             <td>Least Squares</td>  <th>  F-statistic:       </th> <td>   773.6</td> \n",
              "</tr>\n",
              "<tr>\n",
              "  <th>Date:</th>             <td>Tue, 07 Jun 2022</td> <th>  Prob (F-statistic):</th> <td>5.21e-209</td>\n",
              "</tr>\n",
              "<tr>\n",
              "  <th>Time:</th>                 <td>18:37:00</td>     <th>  Log-Likelihood:    </th> <td> -13708.</td> \n",
              "</tr>\n",
              "<tr>\n",
              "  <th>No. Observations:</th>      <td>  1080</td>      <th>  AIC:               </th> <td>2.742e+04</td>\n",
              "</tr>\n",
              "<tr>\n",
              "  <th>Df Residuals:</th>          <td>  1077</td>      <th>  BIC:               </th> <td>2.744e+04</td>\n",
              "</tr>\n",
              "<tr>\n",
              "  <th>Df Model:</th>              <td>     2</td>      <th>                     </th>     <td> </td>    \n",
              "</tr>\n",
              "<tr>\n",
              "  <th>Covariance Type:</th>      <td>nonrobust</td>    <th>                     </th>     <td> </td>    \n",
              "</tr>\n",
              "</table>\n",
              "<table class=\"simpletable\">\n",
              "<tr>\n",
              "    <td></td>       <th>coef</th>     <th>std err</th>      <th>t</th>      <th>P>|t|</th>  <th>[0.025</th>    <th>0.975]</th>  \n",
              "</tr>\n",
              "<tr>\n",
              "  <th>const</th> <td>-4.195e+04</td> <td> 6989.636</td> <td>   -6.001</td> <td> 0.000</td> <td>-5.57e+04</td> <td>-2.82e+04</td>\n",
              "</tr>\n",
              "<tr>\n",
              "  <th>SQFT</th>  <td>   90.9698</td> <td>    2.403</td> <td>   37.855</td> <td> 0.000</td> <td>   86.255</td> <td>   95.685</td>\n",
              "</tr>\n",
              "<tr>\n",
              "  <th>AGE</th>   <td> -755.0414</td> <td>  140.894</td> <td>   -5.359</td> <td> 0.000</td> <td>-1031.498</td> <td> -478.584</td>\n",
              "</tr>\n",
              "</table>\n",
              "<table class=\"simpletable\">\n",
              "<tr>\n",
              "  <th>Omnibus:</th>       <td>1233.525</td> <th>  Durbin-Watson:     </th>  <td>   1.910</td> \n",
              "</tr>\n",
              "<tr>\n",
              "  <th>Prob(Omnibus):</th>  <td> 0.000</td>  <th>  Jarque-Bera (JB):  </th> <td>157469.949</td>\n",
              "</tr>\n",
              "<tr>\n",
              "  <th>Skew:</th>           <td> 5.492</td>  <th>  Prob(JB):          </th>  <td>    0.00</td> \n",
              "</tr>\n",
              "<tr>\n",
              "  <th>Kurtosis:</th>       <td>61.127</td>  <th>  Cond. No.          </th>  <td>7.39e+03</td> \n",
              "</tr>\n",
              "</table><br/><br/>Warnings:<br/>[1] Standard Errors assume that the covariance matrix of the errors is correctly specified.<br/>[2] The condition number is large, 7.39e+03. This might indicate that there are<br/>strong multicollinearity or other numerical problems."
            ]
          },
          "metadata": {},
          "execution_count": 11
        }
      ]
    },
    {
      "cell_type": "markdown",
      "source": [
        "95% Confidence Interval"
      ],
      "metadata": {
        "id": "JRLCkwM94ep9"
      }
    },
    {
      "cell_type": "code",
      "source": [
        "model1.conf_int(alpha=0.05).loc['SQFT']"
      ],
      "metadata": {
        "colab": {
          "base_uri": "https://localhost:8080/"
        },
        "id": "nR0seLTd4fXK",
        "outputId": "edc06ae0-9e53-443a-ae2a-129eafdc0c49"
      },
      "execution_count": 12,
      "outputs": [
        {
          "output_type": "execute_result",
          "data": {
            "text/plain": [
              "0    86.254511\n",
              "1    95.685087\n",
              "Name: SQFT, dtype: float64"
            ]
          },
          "metadata": {},
          "execution_count": 12
        }
      ]
    },
    {
      "cell_type": "markdown",
      "source": [
        "t-Test: H_0: beta_3 >=-1000"
      ],
      "metadata": {
        "id": "M_zOeKiu6Ux1"
      }
    },
    {
      "cell_type": "code",
      "source": [
        "hypotheses = 'AGE = -1000'\n",
        "t_test = model1.t_test(hypotheses)\n",
        "print(t_test)"
      ],
      "metadata": {
        "colab": {
          "base_uri": "https://localhost:8080/"
        },
        "id": "wiejPylQ6BIQ",
        "outputId": "f04bafa3-49cc-4a33-f0ce-852c9ddd3d93"
      },
      "execution_count": 13,
      "outputs": [
        {
          "output_type": "stream",
          "name": "stdout",
          "text": [
            "                             Test for Constraints                             \n",
            "==============================================================================\n",
            "                 coef    std err          t      P>|t|      [0.025      0.975]\n",
            "------------------------------------------------------------------------------\n",
            "c0          -755.0414    140.894      1.739      0.082   -1031.498    -478.584\n",
            "==============================================================================\n"
          ]
        }
      ]
    },
    {
      "cell_type": "markdown",
      "source": [
        "Calculate p-value"
      ],
      "metadata": {
        "id": "1NHpNcS581ss"
      }
    },
    {
      "cell_type": "code",
      "source": [
        "df = houseprices.shape[0] - model1.params.shape[0]"
      ],
      "metadata": {
        "id": "v11QEDzb8Ipf"
      },
      "execution_count": 14,
      "outputs": []
    },
    {
      "cell_type": "markdown",
      "source": [
        "Critical value"
      ],
      "metadata": {
        "id": "GPwYHZe7dVRC"
      }
    },
    {
      "cell_type": "code",
      "source": [
        "-t.ppf(0.95, df)"
      ],
      "metadata": {
        "colab": {
          "base_uri": "https://localhost:8080/"
        },
        "id": "sNaGs7SddcWU",
        "outputId": "42369f44-793c-4470-c5a9-f89ee40bff8a"
      },
      "execution_count": 29,
      "outputs": [
        {
          "output_type": "execute_result",
          "data": {
            "text/plain": [
              "-1.6462696795616023"
            ]
          },
          "metadata": {},
          "execution_count": 29
        }
      ]
    },
    {
      "cell_type": "markdown",
      "source": [
        "p-value"
      ],
      "metadata": {
        "id": "SuIqsnRJeA5n"
      }
    },
    {
      "cell_type": "code",
      "source": [
        "t.cdf(1.739, df)"
      ],
      "metadata": {
        "colab": {
          "base_uri": "https://localhost:8080/"
        },
        "id": "s87Aga__9FmL",
        "outputId": "524930c0-befa-47e5-8672-87c6255c3eed"
      },
      "execution_count": 15,
      "outputs": [
        {
          "output_type": "execute_result",
          "data": {
            "text/plain": [
              "0.9588397526043893"
            ]
          },
          "metadata": {},
          "execution_count": 15
        }
      ]
    },
    {
      "cell_type": "markdown",
      "source": [
        "Model 2: include squared terms"
      ],
      "metadata": {
        "id": "E85lYjAA--vZ"
      }
    },
    {
      "cell_type": "code",
      "source": [
        "houseprices['SQFT2'] = houseprices['SQFT'] ** 2\n",
        "houseprices['AGE2'] = houseprices['AGE'] ** 2"
      ],
      "metadata": {
        "id": "gfku8sHW9t6z"
      },
      "execution_count": 16,
      "outputs": []
    },
    {
      "cell_type": "code",
      "source": [
        "X2 = houseprices[['SQFT', 'SQFT2', 'AGE', 'AGE2']]\n",
        "X2 = sm.add_constant(X2)"
      ],
      "metadata": {
        "id": "tv5Cq-MD_Jfd"
      },
      "execution_count": null,
      "outputs": []
    },
    {
      "cell_type": "code",
      "source": [
        "model2 = sm.OLS(y, X2).fit()\n",
        "model2.summary()"
      ],
      "metadata": {
        "colab": {
          "base_uri": "https://localhost:8080/",
          "height": 541
        },
        "id": "W0ZtfMEw_TcW",
        "outputId": "e467e3a5-93d9-45c8-d1ec-b64ea2fb8ffc"
      },
      "execution_count": 18,
      "outputs": [
        {
          "output_type": "execute_result",
          "data": {
            "text/plain": [
              "<class 'statsmodels.iolib.summary.Summary'>\n",
              "\"\"\"\n",
              "                            OLS Regression Results                            \n",
              "==============================================================================\n",
              "Dep. Variable:                  PRICE   R-squared:                       0.735\n",
              "Model:                            OLS   Adj. R-squared:                  0.734\n",
              "Method:                 Least Squares   F-statistic:                     746.0\n",
              "Date:                Tue, 07 Jun 2022   Prob (F-statistic):          2.82e-308\n",
              "Time:                        18:37:00   Log-Likelihood:                -13471.\n",
              "No. Observations:                1080   AIC:                         2.695e+04\n",
              "Df Residuals:                    1075   BIC:                         2.698e+04\n",
              "Df Model:                           4                                         \n",
              "Covariance Type:            nonrobust                                         \n",
              "==============================================================================\n",
              "                 coef    std err          t      P>|t|      [0.025      0.975]\n",
              "------------------------------------------------------------------------------\n",
              "const       1.701e+05   1.04e+04     16.310      0.000     1.5e+05    1.91e+05\n",
              "SQFT         -55.7842      6.389     -8.731      0.000     -68.321     -43.247\n",
              "SQFT2          0.0232      0.001     24.013      0.000       0.021       0.025\n",
              "AGE        -2797.7885    305.116     -9.170      0.000   -3396.478   -2199.099\n",
              "AGE2          30.1603      5.071      5.948      0.000      20.210      40.111\n",
              "==============================================================================\n",
              "Omnibus:                      385.274   Durbin-Watson:                   1.954\n",
              "Prob(Omnibus):                  0.000   Jarque-Bera (JB):            97267.990\n",
              "Skew:                          -0.248   Prob(JB):                         0.00\n",
              "Kurtosis:                      49.489   Cond. No.                     4.99e+07\n",
              "==============================================================================\n",
              "\n",
              "Warnings:\n",
              "[1] Standard Errors assume that the covariance matrix of the errors is correctly specified.\n",
              "[2] The condition number is large, 4.99e+07. This might indicate that there are\n",
              "strong multicollinearity or other numerical problems.\n",
              "\"\"\""
            ],
            "text/html": [
              "<table class=\"simpletable\">\n",
              "<caption>OLS Regression Results</caption>\n",
              "<tr>\n",
              "  <th>Dep. Variable:</th>          <td>PRICE</td>      <th>  R-squared:         </th> <td>   0.735</td> \n",
              "</tr>\n",
              "<tr>\n",
              "  <th>Model:</th>                   <td>OLS</td>       <th>  Adj. R-squared:    </th> <td>   0.734</td> \n",
              "</tr>\n",
              "<tr>\n",
              "  <th>Method:</th>             <td>Least Squares</td>  <th>  F-statistic:       </th> <td>   746.0</td> \n",
              "</tr>\n",
              "<tr>\n",
              "  <th>Date:</th>             <td>Tue, 07 Jun 2022</td> <th>  Prob (F-statistic):</th> <td>2.82e-308</td>\n",
              "</tr>\n",
              "<tr>\n",
              "  <th>Time:</th>                 <td>18:37:00</td>     <th>  Log-Likelihood:    </th> <td> -13471.</td> \n",
              "</tr>\n",
              "<tr>\n",
              "  <th>No. Observations:</th>      <td>  1080</td>      <th>  AIC:               </th> <td>2.695e+04</td>\n",
              "</tr>\n",
              "<tr>\n",
              "  <th>Df Residuals:</th>          <td>  1075</td>      <th>  BIC:               </th> <td>2.698e+04</td>\n",
              "</tr>\n",
              "<tr>\n",
              "  <th>Df Model:</th>              <td>     4</td>      <th>                     </th>     <td> </td>    \n",
              "</tr>\n",
              "<tr>\n",
              "  <th>Covariance Type:</th>      <td>nonrobust</td>    <th>                     </th>     <td> </td>    \n",
              "</tr>\n",
              "</table>\n",
              "<table class=\"simpletable\">\n",
              "<tr>\n",
              "    <td></td>       <th>coef</th>     <th>std err</th>      <th>t</th>      <th>P>|t|</th>  <th>[0.025</th>    <th>0.975]</th>  \n",
              "</tr>\n",
              "<tr>\n",
              "  <th>const</th> <td> 1.701e+05</td> <td> 1.04e+04</td> <td>   16.310</td> <td> 0.000</td> <td>  1.5e+05</td> <td> 1.91e+05</td>\n",
              "</tr>\n",
              "<tr>\n",
              "  <th>SQFT</th>  <td>  -55.7842</td> <td>    6.389</td> <td>   -8.731</td> <td> 0.000</td> <td>  -68.321</td> <td>  -43.247</td>\n",
              "</tr>\n",
              "<tr>\n",
              "  <th>SQFT2</th> <td>    0.0232</td> <td>    0.001</td> <td>   24.013</td> <td> 0.000</td> <td>    0.021</td> <td>    0.025</td>\n",
              "</tr>\n",
              "<tr>\n",
              "  <th>AGE</th>   <td>-2797.7885</td> <td>  305.116</td> <td>   -9.170</td> <td> 0.000</td> <td>-3396.478</td> <td>-2199.099</td>\n",
              "</tr>\n",
              "<tr>\n",
              "  <th>AGE2</th>  <td>   30.1603</td> <td>    5.071</td> <td>    5.948</td> <td> 0.000</td> <td>   20.210</td> <td>   40.111</td>\n",
              "</tr>\n",
              "</table>\n",
              "<table class=\"simpletable\">\n",
              "<tr>\n",
              "  <th>Omnibus:</th>       <td>385.274</td> <th>  Durbin-Watson:     </th> <td>   1.954</td> \n",
              "</tr>\n",
              "<tr>\n",
              "  <th>Prob(Omnibus):</th> <td> 0.000</td>  <th>  Jarque-Bera (JB):  </th> <td>97267.990</td>\n",
              "</tr>\n",
              "<tr>\n",
              "  <th>Skew:</th>          <td>-0.248</td>  <th>  Prob(JB):          </th> <td>    0.00</td> \n",
              "</tr>\n",
              "<tr>\n",
              "  <th>Kurtosis:</th>      <td>49.489</td>  <th>  Cond. No.          </th> <td>4.99e+07</td> \n",
              "</tr>\n",
              "</table><br/><br/>Warnings:<br/>[1] Standard Errors assume that the covariance matrix of the errors is correctly specified.<br/>[2] The condition number is large, 4.99e+07. This might indicate that there are<br/>strong multicollinearity or other numerical problems."
            ]
          },
          "metadata": {},
          "execution_count": 18
        }
      ]
    },
    {
      "cell_type": "markdown",
      "source": [
        "Marginal Effects"
      ],
      "metadata": {
        "id": "N2bvAAUH_oWx"
      }
    },
    {
      "cell_type": "code",
      "source": [
        "effectSqftMin = model2.params['SQFT'] + 2*model2.params['SQFT2']*min(houseprices['SQFT'])\n",
        "effectSqftMax = model2.params['SQFT'] + 2*model2.params['SQFT2']*max(houseprices['SQFT'])\n",
        "effectSqft2000 = model2.params['SQFT'] + 2*model2.params['SQFT2']*2000\n",
        "print(effectSqftMin)\n",
        "print(effectSqft2000)\n",
        "print(effectSqftMax)"
      ],
      "metadata": {
        "colab": {
          "base_uri": "https://localhost:8080/"
        },
        "id": "xh8d3fJc_iI2",
        "outputId": "74dbdf2c-3a7c-4542-a44f-94c71f4666f7"
      },
      "execution_count": 19,
      "outputs": [
        {
          "output_type": "stream",
          "name": "stdout",
          "text": [
            "-25.129835762170213\n",
            "36.82710183714359\n",
            "309.89142248225085\n"
          ]
        }
      ]
    },
    {
      "cell_type": "code",
      "source": [
        "effectAgeMin = model2.params['AGE'] + 2*model2.params['AGE2']*min(houseprices['AGE'])\n",
        "effectAgeMax = model2.params['AGE'] + 2*model2.params['AGE2']*max(houseprices['AGE'])\n",
        "effectAge25 = model2.params['AGE'] + 2*model2.params['AGE2']*25\n",
        "print(effectAgeMin)\n",
        "print(effectAge25)\n",
        "print(effectAgeMax)"
      ],
      "metadata": {
        "colab": {
          "base_uri": "https://localhost:8080/"
        },
        "id": "W0zz0RLY_vt4",
        "outputId": "42717409-1174-4d3f-d116-ed47926b8d89"
      },
      "execution_count": 53,
      "outputs": [
        {
          "output_type": "stream",
          "name": "stdout",
          "text": [
            "-2737.4678244684637\n",
            "-1289.771885634424\n",
            "2027.8646408602508\n"
          ]
        }
      ]
    },
    {
      "cell_type": "markdown",
      "source": [
        "95% Confidence Interval for a house with 2000 sqft"
      ],
      "metadata": {
        "id": "8RMeketEBaU1"
      }
    },
    {
      "cell_type": "code",
      "source": [
        "# calculate standarderror of the linear combination of coefficients\n",
        "seSqft2000 = np.sqrt(model2.cov_params()['SQFT']['SQFT'] + (2*2000)**2*model2.cov_params()['SQFT2']['SQFT2'] + 2*2*2000*model2.cov_params()['SQFT']['SQFT2'])"
      ],
      "metadata": {
        "colab": {
          "base_uri": "https://localhost:8080/"
        },
        "id": "EEpK_ffRCxMw",
        "outputId": "5975873e-afba-462e-dacd-cf54a0cae280"
      },
      "execution_count": 41,
      "outputs": [
        {
          "output_type": "execute_result",
          "data": {
            "text/plain": [
              "2.9556624345951286"
            ]
          },
          "metadata": {},
          "execution_count": 41
        }
      ]
    },
    {
      "cell_type": "code",
      "source": [
        "# calculate upper and lower bound\n",
        "upperB = effectSqft2000 + t.ppf(0.975, model2.df_resid)*seSqft2000\n",
        "lowerB = effectSqft2000 - t.ppf(0.975, model2.df_resid)*seSqft2000\n",
        "lowerB, upperB"
      ],
      "metadata": {
        "colab": {
          "base_uri": "https://localhost:8080/"
        },
        "id": "w_h9ylQmC6ji",
        "outputId": "d8c46cf1-d301-44be-dc9a-44d71c7d541b"
      },
      "execution_count": 51,
      "outputs": [
        {
          "output_type": "execute_result",
          "data": {
            "text/plain": [
              "(31.027580240619386, 42.62662343366779)"
            ]
          },
          "metadata": {},
          "execution_count": 51
        }
      ]
    },
    {
      "cell_type": "markdown",
      "source": [
        "t-Test H_0: effect >=-1000 at age=25"
      ],
      "metadata": {
        "id": "Fy_5xamIgjwK"
      }
    },
    {
      "cell_type": "code",
      "source": [
        "# calculate standard error of the linear combination of coefficients\n",
        "seAge25 = np.sqrt(model2.cov_params()['AGE']['AGE'] + (2*25)**2*model2.cov_params()['AGE2']['AGE2'] + 2*2*25*model2.cov_params()['AGE']['AGE2'])\n",
        "# calculate t-Statistic: H_0: beta_4 + 2*beta_5*25 >= -1000\n",
        "tstat20 = (effectAge25 - (-1000))/seAge25\n",
        "tstat20"
      ],
      "metadata": {
        "colab": {
          "base_uri": "https://localhost:8080/"
        },
        "id": "rDIyZ7qMiTi6",
        "outputId": "47abbb5f-14a9-4bbf-e17e-a92f06f81a12"
      },
      "execution_count": 61,
      "outputs": [
        {
          "output_type": "execute_result",
          "data": {
            "text/plain": [
              "-2.455325739463889"
            ]
          },
          "metadata": {},
          "execution_count": 61
        }
      ]
    },
    {
      "cell_type": "code",
      "source": [
        "# calculate the p-value, left-sided\n",
        "t.cdf(tstat20, df)"
      ],
      "metadata": {
        "colab": {
          "base_uri": "https://localhost:8080/"
        },
        "id": "jtXWMxwIjlWR",
        "outputId": "871abf3f-c40d-4dfb-8501-52129c344ead"
      },
      "execution_count": 62,
      "outputs": [
        {
          "output_type": "execute_result",
          "data": {
            "text/plain": [
              "0.007116444082766405"
            ]
          },
          "metadata": {},
          "execution_count": 62
        }
      ]
    }
  ]
}