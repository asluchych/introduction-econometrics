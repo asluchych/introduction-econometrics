{
  "nbformat": 4,
  "nbformat_minor": 0,
  "metadata": {
    "colab": {
      "name": "chapter4_statsmodels.ipynb",
      "provenance": [],
      "authorship_tag": "ABX9TyMhLrD+Hv0xJAWNtYQbF5Po",
      "include_colab_link": true
    },
    "kernelspec": {
      "name": "python3",
      "display_name": "Python 3"
    },
    "language_info": {
      "name": "python"
    }
  },
  "cells": [
    {
      "cell_type": "markdown",
      "metadata": {
        "id": "view-in-github",
        "colab_type": "text"
      },
      "source": [
        "<a href=\"https://colab.research.google.com/github/asluchych/introduction-econometrics/blob/main/chapter4_statsmodels.ipynb\" target=\"_parent\"><img src=\"https://colab.research.google.com/assets/colab-badge.svg\" alt=\"Open In Colab\"/></a>"
      ]
    },
    {
      "cell_type": "markdown",
      "source": [
        "# Exercise 4: Prediction, Goodness-of-Fit and Modelling Issues             \n",
        "# Assignment 3 "
      ],
      "metadata": {
        "id": "pkqt4H3ggeQe"
      }
    },
    {
      "cell_type": "code",
      "execution_count": 26,
      "metadata": {
        "id": "w9DUClPqgceP"
      },
      "outputs": [],
      "source": [
        "import numpy as np\n",
        "import pandas as pd\n",
        "import statsmodels.api as sm\n",
        "import matplotlib.pyplot as plt"
      ]
    },
    {
      "cell_type": "markdown",
      "source": [
        "Read data"
      ],
      "metadata": {
        "id": "0m42Z6kMgq6T"
      }
    },
    {
      "cell_type": "code",
      "source": [
        "houseprices = pd.read_csv(\"houseprices.csv\")"
      ],
      "metadata": {
        "id": "nzJsu55mgvpz"
      },
      "execution_count": 2,
      "outputs": []
    },
    {
      "cell_type": "code",
      "source": [
        "houseprices.describe().round(2)"
      ],
      "metadata": {
        "colab": {
          "base_uri": "https://localhost:8080/",
          "height": 300
        },
        "id": "ssItUEh5g49y",
        "outputId": "299a9742-32c7-46e7-cb49-00e046bbf145"
      },
      "execution_count": 6,
      "outputs": [
        {
          "output_type": "execute_result",
          "data": {
            "text/plain": [
              "            PRICE      SQM\n",
              "count     1080.00  1080.00\n",
              "mean    154863.18   216.08\n",
              "std     122912.81    93.65\n",
              "min      22000.00    61.50\n",
              "25%      99000.00   149.06\n",
              "50%     130000.00   203.13\n",
              "75%     170162.50   260.13\n",
              "max    1580000.00   733.65"
            ],
            "text/html": [
              "\n",
              "  <div id=\"df-998f8551-7567-44aa-9743-673e267a83ce\">\n",
              "    <div class=\"colab-df-container\">\n",
              "      <div>\n",
              "<style scoped>\n",
              "    .dataframe tbody tr th:only-of-type {\n",
              "        vertical-align: middle;\n",
              "    }\n",
              "\n",
              "    .dataframe tbody tr th {\n",
              "        vertical-align: top;\n",
              "    }\n",
              "\n",
              "    .dataframe thead th {\n",
              "        text-align: right;\n",
              "    }\n",
              "</style>\n",
              "<table border=\"1\" class=\"dataframe\">\n",
              "  <thead>\n",
              "    <tr style=\"text-align: right;\">\n",
              "      <th></th>\n",
              "      <th>PRICE</th>\n",
              "      <th>SQM</th>\n",
              "    </tr>\n",
              "  </thead>\n",
              "  <tbody>\n",
              "    <tr>\n",
              "      <th>count</th>\n",
              "      <td>1080.00</td>\n",
              "      <td>1080.00</td>\n",
              "    </tr>\n",
              "    <tr>\n",
              "      <th>mean</th>\n",
              "      <td>154863.18</td>\n",
              "      <td>216.08</td>\n",
              "    </tr>\n",
              "    <tr>\n",
              "      <th>std</th>\n",
              "      <td>122912.81</td>\n",
              "      <td>93.65</td>\n",
              "    </tr>\n",
              "    <tr>\n",
              "      <th>min</th>\n",
              "      <td>22000.00</td>\n",
              "      <td>61.50</td>\n",
              "    </tr>\n",
              "    <tr>\n",
              "      <th>25%</th>\n",
              "      <td>99000.00</td>\n",
              "      <td>149.06</td>\n",
              "    </tr>\n",
              "    <tr>\n",
              "      <th>50%</th>\n",
              "      <td>130000.00</td>\n",
              "      <td>203.13</td>\n",
              "    </tr>\n",
              "    <tr>\n",
              "      <th>75%</th>\n",
              "      <td>170162.50</td>\n",
              "      <td>260.13</td>\n",
              "    </tr>\n",
              "    <tr>\n",
              "      <th>max</th>\n",
              "      <td>1580000.00</td>\n",
              "      <td>733.65</td>\n",
              "    </tr>\n",
              "  </tbody>\n",
              "</table>\n",
              "</div>\n",
              "      <button class=\"colab-df-convert\" onclick=\"convertToInteractive('df-998f8551-7567-44aa-9743-673e267a83ce')\"\n",
              "              title=\"Convert this dataframe to an interactive table.\"\n",
              "              style=\"display:none;\">\n",
              "        \n",
              "  <svg xmlns=\"http://www.w3.org/2000/svg\" height=\"24px\"viewBox=\"0 0 24 24\"\n",
              "       width=\"24px\">\n",
              "    <path d=\"M0 0h24v24H0V0z\" fill=\"none\"/>\n",
              "    <path d=\"M18.56 5.44l.94 2.06.94-2.06 2.06-.94-2.06-.94-.94-2.06-.94 2.06-2.06.94zm-11 1L8.5 8.5l.94-2.06 2.06-.94-2.06-.94L8.5 2.5l-.94 2.06-2.06.94zm10 10l.94 2.06.94-2.06 2.06-.94-2.06-.94-.94-2.06-.94 2.06-2.06.94z\"/><path d=\"M17.41 7.96l-1.37-1.37c-.4-.4-.92-.59-1.43-.59-.52 0-1.04.2-1.43.59L10.3 9.45l-7.72 7.72c-.78.78-.78 2.05 0 2.83L4 21.41c.39.39.9.59 1.41.59.51 0 1.02-.2 1.41-.59l7.78-7.78 2.81-2.81c.8-.78.8-2.07 0-2.86zM5.41 20L4 18.59l7.72-7.72 1.47 1.35L5.41 20z\"/>\n",
              "  </svg>\n",
              "      </button>\n",
              "      \n",
              "  <style>\n",
              "    .colab-df-container {\n",
              "      display:flex;\n",
              "      flex-wrap:wrap;\n",
              "      gap: 12px;\n",
              "    }\n",
              "\n",
              "    .colab-df-convert {\n",
              "      background-color: #E8F0FE;\n",
              "      border: none;\n",
              "      border-radius: 50%;\n",
              "      cursor: pointer;\n",
              "      display: none;\n",
              "      fill: #1967D2;\n",
              "      height: 32px;\n",
              "      padding: 0 0 0 0;\n",
              "      width: 32px;\n",
              "    }\n",
              "\n",
              "    .colab-df-convert:hover {\n",
              "      background-color: #E2EBFA;\n",
              "      box-shadow: 0px 1px 2px rgba(60, 64, 67, 0.3), 0px 1px 3px 1px rgba(60, 64, 67, 0.15);\n",
              "      fill: #174EA6;\n",
              "    }\n",
              "\n",
              "    [theme=dark] .colab-df-convert {\n",
              "      background-color: #3B4455;\n",
              "      fill: #D2E3FC;\n",
              "    }\n",
              "\n",
              "    [theme=dark] .colab-df-convert:hover {\n",
              "      background-color: #434B5C;\n",
              "      box-shadow: 0px 1px 3px 1px rgba(0, 0, 0, 0.15);\n",
              "      filter: drop-shadow(0px 1px 2px rgba(0, 0, 0, 0.3));\n",
              "      fill: #FFFFFF;\n",
              "    }\n",
              "  </style>\n",
              "\n",
              "      <script>\n",
              "        const buttonEl =\n",
              "          document.querySelector('#df-998f8551-7567-44aa-9743-673e267a83ce button.colab-df-convert');\n",
              "        buttonEl.style.display =\n",
              "          google.colab.kernel.accessAllowed ? 'block' : 'none';\n",
              "\n",
              "        async function convertToInteractive(key) {\n",
              "          const element = document.querySelector('#df-998f8551-7567-44aa-9743-673e267a83ce');\n",
              "          const dataTable =\n",
              "            await google.colab.kernel.invokeFunction('convertToInteractive',\n",
              "                                                     [key], {});\n",
              "          if (!dataTable) return;\n",
              "\n",
              "          const docLinkHtml = 'Like what you see? Visit the ' +\n",
              "            '<a target=\"_blank\" href=https://colab.research.google.com/notebooks/data_table.ipynb>data table notebook</a>'\n",
              "            + ' to learn more about interactive tables.';\n",
              "          element.innerHTML = '';\n",
              "          dataTable['output_type'] = 'display_data';\n",
              "          await google.colab.output.renderOutput(dataTable, element);\n",
              "          const docLink = document.createElement('div');\n",
              "          docLink.innerHTML = docLinkHtml;\n",
              "          element.appendChild(docLink);\n",
              "        }\n",
              "      </script>\n",
              "    </div>\n",
              "  </div>\n",
              "  "
            ]
          },
          "metadata": {},
          "execution_count": 6
        }
      ]
    },
    {
      "cell_type": "code",
      "source": [
        "y = houseprices['PRICE']\n",
        "X = houseprices['SQM']\n",
        "X_const = sm.add_constant(X)"
      ],
      "metadata": {
        "id": "sdTfpr-HhEtK"
      },
      "execution_count": null,
      "outputs": []
    },
    {
      "cell_type": "markdown",
      "source": [
        "Model 1"
      ],
      "metadata": {
        "id": "tis4GOWpheYu"
      }
    },
    {
      "cell_type": "code",
      "source": [
        "lin_model = sm.OLS(y, X_const).fit()\n",
        "lin_model.summary()"
      ],
      "metadata": {
        "colab": {
          "base_uri": "https://localhost:8080/",
          "height": 444
        },
        "id": "OqZBCDJehiML",
        "outputId": "3b162ec4-fa26-41d2-8ae5-9a7d4a8492c6"
      },
      "execution_count": 12,
      "outputs": [
        {
          "output_type": "execute_result",
          "data": {
            "text/plain": [
              "<class 'statsmodels.iolib.summary.Summary'>\n",
              "\"\"\"\n",
              "                            OLS Regression Results                            \n",
              "==============================================================================\n",
              "Dep. Variable:                  PRICE   R-squared:                       0.579\n",
              "Model:                            OLS   Adj. R-squared:                  0.578\n",
              "Method:                 Least Squares   F-statistic:                     1480.\n",
              "Date:                Sun, 22 May 2022   Prob (F-statistic):          1.54e-204\n",
              "Time:                        16:08:21   Log-Likelihood:                -13722.\n",
              "No. Observations:                1080   AIC:                         2.745e+04\n",
              "Df Residuals:                    1078   BIC:                         2.746e+04\n",
              "Df Model:                           1                                         \n",
              "Covariance Type:            nonrobust                                         \n",
              "==============================================================================\n",
              "                 coef    std err          t      P>|t|      [0.025      0.975]\n",
              "------------------------------------------------------------------------------\n",
              "const      -6.086e+04   6110.189     -9.961      0.000   -7.29e+04   -4.89e+04\n",
              "SQM          998.3332     25.947     38.476      0.000     947.422    1049.245\n",
              "==============================================================================\n",
              "Omnibus:                     1185.144   Durbin-Watson:                   1.886\n",
              "Prob(Omnibus):                  0.000   Jarque-Bera (JB):           139601.187\n",
              "Skew:                           5.135   Prob(JB):                         0.00\n",
              "Kurtosis:                      57.743   Cond. No.                         592.\n",
              "==============================================================================\n",
              "\n",
              "Warnings:\n",
              "[1] Standard Errors assume that the covariance matrix of the errors is correctly specified.\n",
              "\"\"\""
            ],
            "text/html": [
              "<table class=\"simpletable\">\n",
              "<caption>OLS Regression Results</caption>\n",
              "<tr>\n",
              "  <th>Dep. Variable:</th>          <td>PRICE</td>      <th>  R-squared:         </th> <td>   0.579</td> \n",
              "</tr>\n",
              "<tr>\n",
              "  <th>Model:</th>                   <td>OLS</td>       <th>  Adj. R-squared:    </th> <td>   0.578</td> \n",
              "</tr>\n",
              "<tr>\n",
              "  <th>Method:</th>             <td>Least Squares</td>  <th>  F-statistic:       </th> <td>   1480.</td> \n",
              "</tr>\n",
              "<tr>\n",
              "  <th>Date:</th>             <td>Sun, 22 May 2022</td> <th>  Prob (F-statistic):</th> <td>1.54e-204</td>\n",
              "</tr>\n",
              "<tr>\n",
              "  <th>Time:</th>                 <td>16:08:21</td>     <th>  Log-Likelihood:    </th> <td> -13722.</td> \n",
              "</tr>\n",
              "<tr>\n",
              "  <th>No. Observations:</th>      <td>  1080</td>      <th>  AIC:               </th> <td>2.745e+04</td>\n",
              "</tr>\n",
              "<tr>\n",
              "  <th>Df Residuals:</th>          <td>  1078</td>      <th>  BIC:               </th> <td>2.746e+04</td>\n",
              "</tr>\n",
              "<tr>\n",
              "  <th>Df Model:</th>              <td>     1</td>      <th>                     </th>     <td> </td>    \n",
              "</tr>\n",
              "<tr>\n",
              "  <th>Covariance Type:</th>      <td>nonrobust</td>    <th>                     </th>     <td> </td>    \n",
              "</tr>\n",
              "</table>\n",
              "<table class=\"simpletable\">\n",
              "<tr>\n",
              "    <td></td>       <th>coef</th>     <th>std err</th>      <th>t</th>      <th>P>|t|</th>  <th>[0.025</th>    <th>0.975]</th>  \n",
              "</tr>\n",
              "<tr>\n",
              "  <th>const</th> <td>-6.086e+04</td> <td> 6110.189</td> <td>   -9.961</td> <td> 0.000</td> <td>-7.29e+04</td> <td>-4.89e+04</td>\n",
              "</tr>\n",
              "<tr>\n",
              "  <th>SQM</th>   <td>  998.3332</td> <td>   25.947</td> <td>   38.476</td> <td> 0.000</td> <td>  947.422</td> <td> 1049.245</td>\n",
              "</tr>\n",
              "</table>\n",
              "<table class=\"simpletable\">\n",
              "<tr>\n",
              "  <th>Omnibus:</th>       <td>1185.144</td> <th>  Durbin-Watson:     </th>  <td>   1.886</td> \n",
              "</tr>\n",
              "<tr>\n",
              "  <th>Prob(Omnibus):</th>  <td> 0.000</td>  <th>  Jarque-Bera (JB):  </th> <td>139601.187</td>\n",
              "</tr>\n",
              "<tr>\n",
              "  <th>Skew:</th>           <td> 5.135</td>  <th>  Prob(JB):          </th>  <td>    0.00</td> \n",
              "</tr>\n",
              "<tr>\n",
              "  <th>Kurtosis:</th>       <td>57.743</td>  <th>  Cond. No.          </th>  <td>    592.</td> \n",
              "</tr>\n",
              "</table><br/><br/>Warnings:<br/>[1] Standard Errors assume that the covariance matrix of the errors is correctly specified."
            ]
          },
          "metadata": {},
          "execution_count": 12
        }
      ]
    },
    {
      "cell_type": "markdown",
      "source": [
        "Model 2"
      ],
      "metadata": {
        "id": "VuTnSRsHh0g9"
      }
    },
    {
      "cell_type": "code",
      "source": [
        "log_y = np.log(y)\n",
        "log_lin_model = sm.OLS(log_y, X_const).fit()\n",
        "log_lin_model.summary()"
      ],
      "metadata": {
        "colab": {
          "base_uri": "https://localhost:8080/",
          "height": 444
        },
        "id": "zINKSmmhh20F",
        "outputId": "f3f4bfbc-88e8-4567-f219-1d6e7a8c7bc7"
      },
      "execution_count": 14,
      "outputs": [
        {
          "output_type": "execute_result",
          "data": {
            "text/plain": [
              "<class 'statsmodels.iolib.summary.Summary'>\n",
              "\"\"\"\n",
              "                            OLS Regression Results                            \n",
              "==============================================================================\n",
              "Dep. Variable:                  PRICE   R-squared:                       0.625\n",
              "Model:                            OLS   Adj. R-squared:                  0.624\n",
              "Method:                 Least Squares   F-statistic:                     1795.\n",
              "Date:                Sun, 22 May 2022   Prob (F-statistic):          1.11e-231\n",
              "Time:                        16:10:18   Log-Likelihood:                -305.80\n",
              "No. Observations:                1080   AIC:                             615.6\n",
              "Df Residuals:                    1078   BIC:                             625.6\n",
              "Df Model:                           1                                         \n",
              "Covariance Type:            nonrobust                                         \n",
              "==============================================================================\n",
              "                 coef    std err          t      P>|t|      [0.025      0.975]\n",
              "------------------------------------------------------------------------------\n",
              "const         10.8386      0.025    440.459      0.000      10.790      10.887\n",
              "SQM            0.0044      0.000     42.365      0.000       0.004       0.005\n",
              "==============================================================================\n",
              "Omnibus:                      227.324   Durbin-Watson:                   1.354\n",
              "Prob(Omnibus):                  0.000   Jarque-Bera (JB):              599.250\n",
              "Skew:                          -1.091   Prob(JB):                    7.49e-131\n",
              "Kurtosis:                       5.926   Cond. No.                         592.\n",
              "==============================================================================\n",
              "\n",
              "Warnings:\n",
              "[1] Standard Errors assume that the covariance matrix of the errors is correctly specified.\n",
              "\"\"\""
            ],
            "text/html": [
              "<table class=\"simpletable\">\n",
              "<caption>OLS Regression Results</caption>\n",
              "<tr>\n",
              "  <th>Dep. Variable:</th>          <td>PRICE</td>      <th>  R-squared:         </th> <td>   0.625</td> \n",
              "</tr>\n",
              "<tr>\n",
              "  <th>Model:</th>                   <td>OLS</td>       <th>  Adj. R-squared:    </th> <td>   0.624</td> \n",
              "</tr>\n",
              "<tr>\n",
              "  <th>Method:</th>             <td>Least Squares</td>  <th>  F-statistic:       </th> <td>   1795.</td> \n",
              "</tr>\n",
              "<tr>\n",
              "  <th>Date:</th>             <td>Sun, 22 May 2022</td> <th>  Prob (F-statistic):</th> <td>1.11e-231</td>\n",
              "</tr>\n",
              "<tr>\n",
              "  <th>Time:</th>                 <td>16:10:18</td>     <th>  Log-Likelihood:    </th> <td> -305.80</td> \n",
              "</tr>\n",
              "<tr>\n",
              "  <th>No. Observations:</th>      <td>  1080</td>      <th>  AIC:               </th> <td>   615.6</td> \n",
              "</tr>\n",
              "<tr>\n",
              "  <th>Df Residuals:</th>          <td>  1078</td>      <th>  BIC:               </th> <td>   625.6</td> \n",
              "</tr>\n",
              "<tr>\n",
              "  <th>Df Model:</th>              <td>     1</td>      <th>                     </th>     <td> </td>    \n",
              "</tr>\n",
              "<tr>\n",
              "  <th>Covariance Type:</th>      <td>nonrobust</td>    <th>                     </th>     <td> </td>    \n",
              "</tr>\n",
              "</table>\n",
              "<table class=\"simpletable\">\n",
              "<tr>\n",
              "    <td></td>       <th>coef</th>     <th>std err</th>      <th>t</th>      <th>P>|t|</th>  <th>[0.025</th>    <th>0.975]</th>  \n",
              "</tr>\n",
              "<tr>\n",
              "  <th>const</th> <td>   10.8386</td> <td>    0.025</td> <td>  440.459</td> <td> 0.000</td> <td>   10.790</td> <td>   10.887</td>\n",
              "</tr>\n",
              "<tr>\n",
              "  <th>SQM</th>   <td>    0.0044</td> <td>    0.000</td> <td>   42.365</td> <td> 0.000</td> <td>    0.004</td> <td>    0.005</td>\n",
              "</tr>\n",
              "</table>\n",
              "<table class=\"simpletable\">\n",
              "<tr>\n",
              "  <th>Omnibus:</th>       <td>227.324</td> <th>  Durbin-Watson:     </th> <td>   1.354</td> \n",
              "</tr>\n",
              "<tr>\n",
              "  <th>Prob(Omnibus):</th> <td> 0.000</td>  <th>  Jarque-Bera (JB):  </th> <td> 599.250</td> \n",
              "</tr>\n",
              "<tr>\n",
              "  <th>Skew:</th>          <td>-1.091</td>  <th>  Prob(JB):          </th> <td>7.49e-131</td>\n",
              "</tr>\n",
              "<tr>\n",
              "  <th>Kurtosis:</th>      <td> 5.926</td>  <th>  Cond. No.          </th> <td>    592.</td> \n",
              "</tr>\n",
              "</table><br/><br/>Warnings:<br/>[1] Standard Errors assume that the covariance matrix of the errors is correctly specified."
            ]
          },
          "metadata": {},
          "execution_count": 14
        }
      ]
    },
    {
      "cell_type": "markdown",
      "source": [
        "Model 3"
      ],
      "metadata": {
        "id": "2ZofEa9oiP9S"
      }
    },
    {
      "cell_type": "code",
      "source": [
        "log_X = np.log(X)\n",
        "log_X_const = sm.add_constant(log_X)"
      ],
      "metadata": {
        "id": "eFlm2YBoiYzF"
      },
      "execution_count": null,
      "outputs": []
    },
    {
      "cell_type": "code",
      "source": [
        "log_log_model = sm.OLS(log_y, log_X_const).fit()\n",
        "log_log_model.summary()"
      ],
      "metadata": {
        "colab": {
          "base_uri": "https://localhost:8080/",
          "height": 444
        },
        "id": "5z9kUMc-iiSt",
        "outputId": "6a0bc2a1-52be-45e7-e059-8eacfe3438f3"
      },
      "execution_count": 46,
      "outputs": [
        {
          "output_type": "execute_result",
          "data": {
            "text/plain": [
              "<class 'statsmodels.iolib.summary.Summary'>\n",
              "\"\"\"\n",
              "                            OLS Regression Results                            \n",
              "==============================================================================\n",
              "Dep. Variable:                  PRICE   R-squared:                       0.607\n",
              "Model:                            OLS   Adj. R-squared:                  0.607\n",
              "Method:                 Least Squares   F-statistic:                     1666.\n",
              "Date:                Sun, 22 May 2022   Prob (F-statistic):          6.01e-221\n",
              "Time:                        16:29:21   Log-Likelihood:                -330.55\n",
              "No. Observations:                1080   AIC:                             665.1\n",
              "Df Residuals:                    1078   BIC:                             675.1\n",
              "Df Model:                           1                                         \n",
              "Covariance Type:            nonrobust                                         \n",
              "==============================================================================\n",
              "                 coef    std err          t      P>|t|      [0.025      0.975]\n",
              "------------------------------------------------------------------------------\n",
              "const          6.4706      0.131     49.457      0.000       6.214       6.727\n",
              "SQM            1.0061      0.025     40.818      0.000       0.958       1.054\n",
              "==============================================================================\n",
              "Omnibus:                       93.215   Durbin-Watson:                   1.405\n",
              "Prob(Omnibus):                  0.000   Jarque-Bera (JB):              232.319\n",
              "Skew:                          -0.480   Prob(JB):                     3.57e-51\n",
              "Kurtosis:                       5.059   Cond. No.                         71.8\n",
              "==============================================================================\n",
              "\n",
              "Warnings:\n",
              "[1] Standard Errors assume that the covariance matrix of the errors is correctly specified.\n",
              "\"\"\""
            ],
            "text/html": [
              "<table class=\"simpletable\">\n",
              "<caption>OLS Regression Results</caption>\n",
              "<tr>\n",
              "  <th>Dep. Variable:</th>          <td>PRICE</td>      <th>  R-squared:         </th> <td>   0.607</td> \n",
              "</tr>\n",
              "<tr>\n",
              "  <th>Model:</th>                   <td>OLS</td>       <th>  Adj. R-squared:    </th> <td>   0.607</td> \n",
              "</tr>\n",
              "<tr>\n",
              "  <th>Method:</th>             <td>Least Squares</td>  <th>  F-statistic:       </th> <td>   1666.</td> \n",
              "</tr>\n",
              "<tr>\n",
              "  <th>Date:</th>             <td>Sun, 22 May 2022</td> <th>  Prob (F-statistic):</th> <td>6.01e-221</td>\n",
              "</tr>\n",
              "<tr>\n",
              "  <th>Time:</th>                 <td>16:29:21</td>     <th>  Log-Likelihood:    </th> <td> -330.55</td> \n",
              "</tr>\n",
              "<tr>\n",
              "  <th>No. Observations:</th>      <td>  1080</td>      <th>  AIC:               </th> <td>   665.1</td> \n",
              "</tr>\n",
              "<tr>\n",
              "  <th>Df Residuals:</th>          <td>  1078</td>      <th>  BIC:               </th> <td>   675.1</td> \n",
              "</tr>\n",
              "<tr>\n",
              "  <th>Df Model:</th>              <td>     1</td>      <th>                     </th>     <td> </td>    \n",
              "</tr>\n",
              "<tr>\n",
              "  <th>Covariance Type:</th>      <td>nonrobust</td>    <th>                     </th>     <td> </td>    \n",
              "</tr>\n",
              "</table>\n",
              "<table class=\"simpletable\">\n",
              "<tr>\n",
              "    <td></td>       <th>coef</th>     <th>std err</th>      <th>t</th>      <th>P>|t|</th>  <th>[0.025</th>    <th>0.975]</th>  \n",
              "</tr>\n",
              "<tr>\n",
              "  <th>const</th> <td>    6.4706</td> <td>    0.131</td> <td>   49.457</td> <td> 0.000</td> <td>    6.214</td> <td>    6.727</td>\n",
              "</tr>\n",
              "<tr>\n",
              "  <th>SQM</th>   <td>    1.0061</td> <td>    0.025</td> <td>   40.818</td> <td> 0.000</td> <td>    0.958</td> <td>    1.054</td>\n",
              "</tr>\n",
              "</table>\n",
              "<table class=\"simpletable\">\n",
              "<tr>\n",
              "  <th>Omnibus:</th>       <td>93.215</td> <th>  Durbin-Watson:     </th> <td>   1.405</td>\n",
              "</tr>\n",
              "<tr>\n",
              "  <th>Prob(Omnibus):</th> <td> 0.000</td> <th>  Jarque-Bera (JB):  </th> <td> 232.319</td>\n",
              "</tr>\n",
              "<tr>\n",
              "  <th>Skew:</th>          <td>-0.480</td> <th>  Prob(JB):          </th> <td>3.57e-51</td>\n",
              "</tr>\n",
              "<tr>\n",
              "  <th>Kurtosis:</th>      <td> 5.059</td> <th>  Cond. No.          </th> <td>    71.8</td>\n",
              "</tr>\n",
              "</table><br/><br/>Warnings:<br/>[1] Standard Errors assume that the covariance matrix of the errors is correctly specified."
            ]
          },
          "metadata": {},
          "execution_count": 46
        }
      ]
    },
    {
      "cell_type": "markdown",
      "source": [
        "b) comparison"
      ],
      "metadata": {
        "id": "XXXAULMNiTd_"
      }
    },
    {
      "cell_type": "code",
      "source": [
        "x_vals = np.linspace(20, 800, 1000)\n",
        "fitted_vals_lin = lin_model.params[1]*x_vals + lin_model.params[0]\n",
        "fitted_vals_log_lin = np.exp(log_lin_model.params[1]*x_vals + log_lin_model.params[0])\n",
        "fitted_vals_log_log = np.exp(log_log_model.params[1]*np.log(x_vals) + log_log_model.params[0])"
      ],
      "metadata": {
        "id": "IuSzgVW6i0oJ"
      },
      "execution_count": 70,
      "outputs": []
    },
    {
      "cell_type": "markdown",
      "source": [
        "(i) Regression graph - scatterplot PRICE, SQM"
      ],
      "metadata": {
        "id": "COdtmv00onZN"
      }
    },
    {
      "cell_type": "code",
      "source": [
        "plt.scatter(X, y)\n",
        "plt.title(\"Prices vs. Square Meters\")\n",
        "plt.ticklabel_format(style='plain')\n",
        "plt.plot(x_vals, fitted_vals_lin, '-g', label = \"linear model\")\n",
        "plt.plot(x_vals, fitted_vals_log_lin, '--y', label = \"log-linear model\")\n",
        "plt.plot(x_vals, fitted_vals_log_log, ':r', label = \"log-log model\")\n",
        "plt.legend(loc = \"upper left\")"
      ],
      "metadata": {
        "colab": {
          "base_uri": "https://localhost:8080/",
          "height": 298
        },
        "id": "xJretDRgjxqg",
        "outputId": "973c639b-7e1a-4ffb-a06f-dbc83740e843"
      },
      "execution_count": 94,
      "outputs": [
        {
          "output_type": "execute_result",
          "data": {
            "text/plain": [
              "<matplotlib.legend.Legend at 0x7f778b040d10>"
            ]
          },
          "metadata": {},
          "execution_count": 94
        },
        {
          "output_type": "display_data",
          "data": {
            "text/plain": [
              "<Figure size 432x288 with 1 Axes>"
            ],
            "image/png": "[encoded data removed]"
          },
          "metadata": {
            "needs_background": "light"
          }
        }
      ]
    },
    {
      "cell_type": "markdown",
      "source": [
        "(ii) Residuals graph"
      ],
      "metadata": {
        "id": "nuKpm8e4oqNl"
      }
    },
    {
      "cell_type": "markdown",
      "source": [
        "Linear model"
      ],
      "metadata": {
        "id": "kazzL_Baovgy"
      }
    },
    {
      "cell_type": "code",
      "source": [
        "plt.scatter(X, lin_model.resid)\n",
        "plt.title(\"Residuals Linear Model\")\n",
        "plt.axhline(y=0, color = 'k', linestyle='dashed')"
      ],
      "metadata": {
        "colab": {
          "base_uri": "https://localhost:8080/",
          "height": 298
        },
        "id": "AhYSBJroowzj",
        "outputId": "eee4e9c1-efc4-4c9c-b339-09c293d7a66a"
      },
      "execution_count": 87,
      "outputs": [
        {
          "output_type": "execute_result",
          "data": {
            "text/plain": [
              "<matplotlib.lines.Line2D at 0x7f778b281290>"
            ]
          },
          "metadata": {},
          "execution_count": 87
        },
        {
          "output_type": "display_data",
          "data": {
            "text/plain": [
              "<Figure size 432x288 with 1 Axes>"
            ],
            "image/png": "[encoded data removed]"
          },
          "metadata": {
            "needs_background": "light"
          }
        }
      ]
    },
    {
      "cell_type": "markdown",
      "source": [
        "Log-linear model"
      ],
      "metadata": {
        "id": "RVRfz_MeqG2J"
      }
    },
    {
      "cell_type": "code",
      "source": [
        "plt.scatter(X, log_lin_model.resid)\n",
        "plt.title(\"Residuals Log-Linear Model\")\n",
        "plt.axhline(y=0, color = 'k', linestyle='dashed')"
      ],
      "metadata": {
        "colab": {
          "base_uri": "https://localhost:8080/",
          "height": 298
        },
        "id": "rvWdwXuAqJzO",
        "outputId": "39ac6528-2dc4-4658-baf1-a28ad66a97dd"
      },
      "execution_count": 88,
      "outputs": [
        {
          "output_type": "execute_result",
          "data": {
            "text/plain": [
              "<matplotlib.lines.Line2D at 0x7f778b2cc990>"
            ]
          },
          "metadata": {},
          "execution_count": 88
        },
        {
          "output_type": "display_data",
          "data": {
            "text/plain": [
              "<Figure size 432x288 with 1 Axes>"
            ],
            "image/png": "[encoded data removed]"
          },
          "metadata": {
            "needs_background": "light"
          }
        }
      ]
    },
    {
      "cell_type": "markdown",
      "source": [
        "Log-log model"
      ],
      "metadata": {
        "id": "ez_IjdltqU2Z"
      }
    },
    {
      "cell_type": "code",
      "source": [
        "plt.scatter(X, log_log_model.resid)\n",
        "plt.title(\"Residuals Log-Log Model\")\n",
        "plt.axhline(y=0, color = 'k', linestyle='dashed')"
      ],
      "metadata": {
        "colab": {
          "base_uri": "https://localhost:8080/",
          "height": 298
        },
        "id": "U0wpXehfqW-F",
        "outputId": "8d27af6a-56ae-47b1-ebb1-2561475d02d3"
      },
      "execution_count": 89,
      "outputs": [
        {
          "output_type": "execute_result",
          "data": {
            "text/plain": [
              "<matplotlib.lines.Line2D at 0x7f778b16c1d0>"
            ]
          },
          "metadata": {},
          "execution_count": 89
        },
        {
          "output_type": "display_data",
          "data": {
            "text/plain": [
              "<Figure size 432x288 with 1 Axes>"
            ],
            "image/png": "[encoded data removed]"
          },
          "metadata": {
            "needs_background": "light"
          }
        }
      ]
    },
    {
      "cell_type": "markdown",
      "source": [
        "(iv) Jarque-Bera Test: H_0 the residuals are normally distributed"
      ],
      "metadata": {
        "id": "StAkdD-iqugk"
      }
    },
    {
      "cell_type": "markdown",
      "source": [
        "linear model"
      ],
      "metadata": {
        "id": "sAeR_3OFrIkC"
      }
    },
    {
      "cell_type": "code",
      "source": [
        "sm.stats.stattools.jarque_bera(lin_model.resid)"
      ],
      "metadata": {
        "colab": {
          "base_uri": "https://localhost:8080/"
        },
        "id": "DsZJnGkvqtp4",
        "outputId": "129daf75-6292-4d29-a767-b129f25489d7"
      },
      "execution_count": 91,
      "outputs": [
        {
          "output_type": "execute_result",
          "data": {
            "text/plain": [
              "(139601.18722854377, 0.0, 5.134781081002603, 57.74289632527184)"
            ]
          },
          "metadata": {},
          "execution_count": 91
        }
      ]
    },
    {
      "cell_type": "markdown",
      "source": [
        "log-linear model"
      ],
      "metadata": {
        "id": "meFh3MduraBs"
      }
    },
    {
      "cell_type": "code",
      "source": [
        "sm.stats.stattools.jarque_bera(log_lin_model.resid)"
      ],
      "metadata": {
        "colab": {
          "base_uri": "https://localhost:8080/"
        },
        "id": "O-qj_dJSrZFQ",
        "outputId": "30d9314e-c1fa-4a63-9845-972aaf62fb3d"
      },
      "execution_count": 92,
      "outputs": [
        {
          "output_type": "execute_result",
          "data": {
            "text/plain": [
              "(599.2496443344994,\n",
              " 7.49191931450463e-131,\n",
              " -1.090625503117898,\n",
              " 5.925543165086477)"
            ]
          },
          "metadata": {},
          "execution_count": 92
        }
      ]
    },
    {
      "cell_type": "markdown",
      "source": [
        "log-log model"
      ],
      "metadata": {
        "id": "_X_cK0QHrhJq"
      }
    },
    {
      "cell_type": "code",
      "source": [
        "sm.stats.stattools.jarque_bera(log_log_model.resid)"
      ],
      "metadata": {
        "colab": {
          "base_uri": "https://localhost:8080/"
        },
        "id": "TIje6gXLroTm",
        "outputId": "ef877ae5-751b-49d8-e231-47b46aac1777"
      },
      "execution_count": 93,
      "outputs": [
        {
          "output_type": "execute_result",
          "data": {
            "text/plain": [
              "(232.3190317276493,\n",
              " 3.5691371748799774e-51,\n",
              " -0.480285043329909,\n",
              " 5.059113949765206)"
            ]
          },
          "metadata": {},
          "execution_count": 93
        }
      ]
    }
  ]
}